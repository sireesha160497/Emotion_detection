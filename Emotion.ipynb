{
 "cells": [
  {
   "cell_type": "raw",
   "source": [
    "Training Part"
   ],
   "metadata": {
    "collapsed": false
   }
  },
  {
   "cell_type": "code",
   "execution_count": 2,
   "outputs": [
    {
     "ename": "ModuleNotFoundError",
     "evalue": "No module named 'seaborn'",
     "output_type": "error",
     "traceback": [
      "\u001B[1;31m---------------------------------------------------------------------------\u001B[0m",
      "\u001B[1;31mModuleNotFoundError\u001B[0m                       Traceback (most recent call last)",
      "Cell \u001B[1;32mIn[2], line 11\u001B[0m\n\u001B[0;32m      9\u001B[0m \u001B[38;5;28;01mfrom\u001B[39;00m \u001B[38;5;21;01msklearn\u001B[39;00m\u001B[38;5;21;01m.\u001B[39;00m\u001B[38;5;21;01mensemble\u001B[39;00m \u001B[38;5;28;01mimport\u001B[39;00m RandomForestClassifier\n\u001B[0;32m     10\u001B[0m \u001B[38;5;28;01mfrom\u001B[39;00m \u001B[38;5;21;01msklearn\u001B[39;00m\u001B[38;5;21;01m.\u001B[39;00m\u001B[38;5;21;01mmetrics\u001B[39;00m \u001B[38;5;28;01mimport\u001B[39;00m accuracy_score, confusion_matrix\n\u001B[1;32m---> 11\u001B[0m \u001B[38;5;28;01mimport\u001B[39;00m \u001B[38;5;21;01mseaborn\u001B[39;00m \u001B[38;5;28;01mas\u001B[39;00m \u001B[38;5;21;01msns\u001B[39;00m\n\u001B[0;32m     12\u001B[0m \u001B[38;5;28;01mimport\u001B[39;00m \u001B[38;5;21;01mtime\u001B[39;00m\n\u001B[0;32m     14\u001B[0m \u001B[38;5;66;03m# Load the dataset\u001B[39;00m\n",
      "\u001B[1;31mModuleNotFoundError\u001B[0m: No module named 'seaborn'"
     ]
    }
   ],
   "source": [
    "import pandas as pd\n",
    "from nltk.tokenize import word_tokenize\n",
    "from nltk.stem import WordNetLemmatizer\n",
    "from nltk.corpus import stopwords\n",
    "from sklearn.pipeline import Pipeline\n",
    "from sklearn.feature_extraction.text import TfidfVectorizer\n",
    "from sklearn.naive_bayes import MultinomialNB\n",
    "from sklearn.svm import LinearSVC\n",
    "import tkinter as tk\n",
    "from tkinter import ttk\n",
    "from tkinter import messagebox\n",
    "\n",
    "# Load training dataset\n",
    "train_df = pd.read_csv('train.csv')\n",
    "\n",
    "# Define a function for text preprocessing\n",
    "def preprocess_text(text):\n",
    "    lemmatizer = WordNetLemmatizer()\n",
    "    stop_words = set(stopwords.words('english'))\n",
    "    tokens = word_tokenize(text.lower())\n",
    "    filtered_tokens = [lemmatizer.lemmatize(word) for word in tokens if word.isalnum() and word not in stop_words]\n",
    "    return ' '.join(filtered_tokens)\n",
    "\n",
    "# Preprocess text data\n",
    "train_df['Text'] = train_df['Text'].apply(preprocess_text)\n",
    "\n",
    "# Split dataset into features and labels\n",
    "X_train = train_df['Text']\n",
    "y_train = train_df['Emotion']\n",
    "\n",
    "# Define classifiers\n",
    "classifiers = {\n",
    "    'Naive Bayes': MultinomialNB(),\n",
    "    'Linear SVC': LinearSVC(),\n",
    "}\n",
    "\n",
    "# Train classifiers\n",
    "trained_classifiers = {}\n",
    "for name, clf in classifiers.items():\n",
    "    pipeline = Pipeline([\n",
    "        ('tfidf', TfidfVectorizer()),\n",
    "        ('clf', clf)\n",
    "    ])\n",
    "    pipeline.fit(X_train, y_train)\n",
    "    trained_classifiers[name] = pipeline\n",
    "\n",
    "# Check if training is successful\n",
    "print(\"Training completed successfully.\")\n",
    "\n",
    "# Function to predict emotion\n",
    "def predict_emotion(text):\n",
    "    text = preprocess_text(text)\n",
    "    nb_prediction = trained_classifiers['Naive Bayes'].predict([text])[0]  # Predict with Naive Bayes\n",
    "    svc_prediction = trained_classifiers['Linear SVC'].predict([text])[0]  # Predict with Linear SVC\n",
    "    return nb_prediction, svc_prediction\n",
    "\n",
    "# Function to handle button click\n",
    "def analyze_text():\n",
    "    text = text_entry.get('1.0', tk.END).strip()\n",
    "    true_emotion = true_emotion_var.get()\n",
    "\n",
    "    if text and true_emotion:\n",
    "        nb_prediction, svc_prediction = predict_emotion(text)\n",
    "        result_label.config(text=f'Naive Bayes Prediction: {nb_prediction}\\nLinear SVC Prediction: {svc_prediction}')\n",
    "    else:\n",
    "        messagebox.showwarning('Warning', 'Please enter text and select true emotion.')\n",
    "\n",
    "# Function to handle Save to CSV button click\n",
    "def save_to_csv():\n",
    "    text = text_entry.get('1.0', tk.END).strip()\n",
    "    true_emotion = true_emotion_var.get()\n",
    "\n",
    "    if text and true_emotion:\n",
    "        with open('train.csv', 'a') as f:\n",
    "            f.write(f'{text},{true_emotion}\\n')\n",
    "        messagebox.showinfo('Success', 'Data saved to train.csv.')\n",
    "    else:\n",
    "        messagebox.showwarning('Warning', 'Please enter text and select true emotion.')\n",
    "\n",
    "# Create GUI window\n",
    "root = tk.Tk()\n",
    "root.title('Emotion Detection')\n",
    "\n",
    "# Create text entry widget\n",
    "text_label = tk.Label(root, text='Enter Text:')\n",
    "text_label.pack()\n",
    "text_entry = tk.Text(root, height=5, width=50)\n",
    "text_entry.pack()\n",
    "\n",
    "# Create dropdown for selecting true emotion\n",
    "true_emotion_label = tk.Label(root, text='Select True Emotion:')\n",
    "true_emotion_label.pack()\n",
    "true_emotion_var = tk.StringVar(root)\n",
    "true_emotion_dropdown = ttk.Combobox(root, textvariable=true_emotion_var, values=['sadness', 'anger', 'love', 'surprise', 'joy', 'fear'])\n",
    "true_emotion_dropdown.pack()\n",
    "\n",
    "# Create button to analyze text\n",
    "analyze_button = tk.Button(root, text='Analyze Text', command=analyze_text)\n",
    "analyze_button.pack()\n",
    "\n",
    "# Display predicted emotion\n",
    "result_label = tk.Label(root, text='')\n",
    "result_label.pack()\n",
    "\n",
    "# Create button to save data to CSV\n",
    "save_button = tk.Button(root, text='Save to CSV', command=save_to_csv)\n",
    "save_button.pack()\n",
    "\n",
    "root.mainloop()\n"
   ],
   "metadata": {
    "collapsed": false,
    "ExecuteTime": {
     "end_time": "2024-04-18T00:02:08.366315700Z",
     "start_time": "2024-04-18T00:02:08.314768400Z"
    }
   }
  },
  {
   "cell_type": "markdown",
   "source": [
    "Testing Part"
   ],
   "metadata": {
    "collapsed": false
   }
  },
  {
   "cell_type": "code",
   "execution_count": null,
   "outputs": [],
   "source": [
    "import pandas as pd\n",
    "\n",
    "# Load test dataset\n",
    "test_df = pd.read_csv('test.csv')\n",
    "\n",
    "# Preprocess text data\n",
    "test_df['Text'] = test_df['Text'].apply(preprocess_text)\n",
    "\n",
    "# Predict emotions using trained classifiers\n",
    "for name, clf in trained_classifiers.items():\n",
    "    # Make predictions\n",
    "    y_pred = clf.predict(test_df['Text'])\n",
    "    # Add predictions to test dataframe\n",
    "    test_df[name] = y_pred\n",
    "\n",
    "# Write predictions to test.csv\n",
    "test_df.to_csv('test.csv', index=False)\n",
    "\n",
    "# Check if predictions are written successfully\n",
    "print(\"Predictions written to test.csv.\")\n"
   ],
   "metadata": {
    "collapsed": false
   }
  },
  {
   "cell_type": "markdown",
   "source": [
    "Graphs and Analysis"
   ],
   "metadata": {
    "collapsed": false
   }
  },
  {
   "cell_type": "code",
   "execution_count": null,
   "outputs": [],
   "source": [
    "import pandas as pd\n",
    "import matplotlib.pyplot as plt\n",
    "import seaborn as sns\n",
    "from sklearn.metrics import accuracy_score, confusion_matrix\n",
    "\n",
    "# Load test dataset with predictions\n",
    "test_df = pd.read_csv('test.csv')\n",
    "\n",
    "# Define function to plot bar graphs\n",
    "def plot_bar_graph(data, xlabel, ylabel, title):\n",
    "    plt.figure(figsize=(10, 6))\n",
    "    sns.barplot(x=data.index, y=data.values, palette='Set2')\n",
    "    plt.xlabel(xlabel)\n",
    "    plt.ylabel(ylabel)\n",
    "    plt.title(title)\n",
    "    plt.xticks(rotation=45)\n",
    "    plt.show()\n",
    "\n",
    "# Define function to plot confusion matrix with custom tick labels\n",
    "def plot_confusion_matrix(matrix, labels, title):\n",
    "    plt.figure(figsize=(8, 6))\n",
    "    sns.heatmap(matrix, annot=True, fmt='d', cmap='YlGnBu', cbar=False, xticklabels=labels, yticklabels=labels)\n",
    "    plt.xlabel('Predicted Emotion')\n",
    "    plt.ylabel('True Emotion')\n",
    "    plt.title(title)\n",
    "    plt.show()\n",
    "\n",
    "# Calculate accuracy for each classifier\n",
    "accuracy_results = {}\n",
    "for name, _ in trained_classifiers.items():\n",
    "    accuracy = accuracy_score(test_df['True_emotion'], test_df[name])\n",
    "    accuracy_results[name] = accuracy\n",
    "\n",
    "# Plot accuracy for each classifier\n",
    "plot_bar_graph(pd.Series(accuracy_results), xlabel='Classifier', ylabel='Accuracy', title='Accuracy for Each Classifier')\n",
    "\n",
    "# Generate confusion matrix for each classifier\n",
    "confusion_matrices = {}\n",
    "for name, _ in trained_classifiers.items():\n",
    "    confusion_matrices[name] = confusion_matrix(test_df['True_emotion'], test_df[name])\n",
    "\n",
    "# Get unique emotion labels\n",
    "emotion_labels = test_df['True_emotion'].unique()\n",
    "\n",
    "# Plot confusion matrix for each classifier with custom tick labels\n",
    "for name, matrix in confusion_matrices.items():\n",
    "    plot_confusion_matrix(matrix, labels=emotion_labels, title=f'Confusion Matrix for {name}')\n"
   ],
   "metadata": {
    "collapsed": false
   }
  }
 ],
 "metadata": {
  "kernelspec": {
   "display_name": "Python 3",
   "language": "python",
   "name": "python3"
  },
  "language_info": {
   "codemirror_mode": {
    "name": "ipython",
    "version": 2
   },
   "file_extension": ".py",
   "mimetype": "text/x-python",
   "name": "python",
   "nbconvert_exporter": "python",
   "pygments_lexer": "ipython2",
   "version": "2.7.6"
  }
 },
 "nbformat": 4,
 "nbformat_minor": 0
}
